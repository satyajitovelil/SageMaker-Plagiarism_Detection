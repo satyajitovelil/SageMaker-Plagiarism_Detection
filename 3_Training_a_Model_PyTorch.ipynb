{
 "cells": [
  {
   "cell_type": "markdown",
   "metadata": {},
   "source": [
    "# Plagiarism Detection Model\n",
    "\n",
    "Now that you've created training and test data, you are ready to define and train a model. Your goal in this notebook, will be to train a binary classification model that learns to label an answer file as either plagiarized or not, based on the features you provide the model.\n",
    "\n",
    "This task will be broken down into a few discrete steps:\n",
    "\n",
    "* Upload your data to S3.\n",
    "* Define a binary classification model and a training script.\n",
    "* Train your model and deploy it.\n",
    "* Evaluate your deployed classifier and answer some questions about your approach.\n",
    "\n",
    "To complete this notebook, you'll have to complete all given exercises and answer all the questions in this notebook.\n",
    "> All your tasks will be clearly labeled **EXERCISE** and questions as **QUESTION**.\n",
    "\n",
    "It will be up to you to explore different classification models and decide on a model that gives you the best performance for this dataset.\n",
    "\n",
    "---"
   ]
  },
  {
   "cell_type": "markdown",
   "metadata": {},
   "source": [
    "## Load Data to S3\n",
    "\n",
    "In the last notebook, you should have created two files: a `training.csv` and `test.csv` file with the features and class labels for the given corpus of plagiarized/non-plagiarized text data. \n",
    "\n",
    ">The below cells load in some AWS SageMaker libraries and creates a default bucket. After creating this bucket, you can upload your locally stored data to S3.\n",
    "\n",
    "Save your train and test `.csv` feature files, locally. To do this you can run the second notebook \"2_Plagiarism_Feature_Engineering\" in SageMaker or you can manually upload your files to this notebook using the upload icon in Jupyter Lab. Then you can upload local files to S3 by using `sagemaker_session.upload_data` and pointing directly to where the training data is saved."
   ]
  },
  {
   "cell_type": "code",
   "execution_count": 5,
   "metadata": {},
   "outputs": [],
   "source": [
    "import pandas as pd\n",
    "import boto3\n",
    "import sagemaker"
   ]
  },
  {
   "cell_type": "code",
   "execution_count": 6,
   "metadata": {},
   "outputs": [],
   "source": [
    "\"\"\"\n",
    "DON'T MODIFY ANYTHING IN THIS CELL THAT IS BELOW THIS LINE\n",
    "\"\"\"\n",
    "# session and role\n",
    "sagemaker_session = sagemaker.Session()\n",
    "role = sagemaker.get_execution_role()\n",
    "\n",
    "# create an S3 bucket\n",
    "bucket = sagemaker_session.default_bucket()"
   ]
  },
  {
   "cell_type": "markdown",
   "metadata": {},
   "source": [
    "## EXERCISE: Upload your training data to S3\n",
    "\n",
    "Specify the `data_dir` where you've saved your `train.csv` file. Decide on a descriptive `prefix` that defines where your data will be uploaded in the default S3 bucket. Finally, create a pointer to your training data by calling `sagemaker_session.upload_data` and passing in the required parameters. It may help to look at the [Session documentation](https://sagemaker.readthedocs.io/en/stable/session.html#sagemaker.session.Session.upload_data) or previous SageMaker code examples.\n",
    "\n",
    "You are expected to upload your entire directory. Later, the training script will only access the `train.csv` file."
   ]
  },
  {
   "cell_type": "code",
   "execution_count": 7,
   "metadata": {},
   "outputs": [],
   "source": [
    "# should be the name of directory you created to save your features data\n",
    "data_dir = 'plagiarism_data'\n",
    "\n",
    "# set prefix, a descriptive name for a directory  \n",
    "prefix = 'plagiarism-detector'\n",
    "\n",
    "# upload all data to S3\n",
    "input_data = sagemaker_session.upload_data(data_dir, bucket=bucket, key_prefix=prefix)"
   ]
  },
  {
   "cell_type": "markdown",
   "metadata": {},
   "source": [
    "### Test cell\n",
    "\n",
    "Test that your data has been successfully uploaded. The below cell prints out the items in your S3 bucket and will throw an error if it is empty. You should see the contents of your `data_dir` and perhaps some checkpoints. If you see any other files listed, then you may have some old model files that you can delete via the S3 console (though, additional files shouldn't affect the performance of model developed in this notebook)."
   ]
  },
  {
   "cell_type": "code",
   "execution_count": 8,
   "metadata": {},
   "outputs": [
    {
     "name": "stdout",
     "output_type": "stream",
     "text": [
      "plagiarism-detector/.ipynb_checkpoints/train-checkpoint.csv\n",
      "plagiarism-detector/test.csv\n",
      "plagiarism-detector/train.csv\n",
      "Test passed!\n"
     ]
    }
   ],
   "source": [
    "\"\"\"\n",
    "DON'T MODIFY ANYTHING IN THIS CELL THAT IS BELOW THIS LINE\n",
    "\"\"\"\n",
    "# confirm that data is in S3 bucket\n",
    "empty_check = []\n",
    "for obj in boto3.resource('s3').Bucket(bucket).objects.all():\n",
    "    empty_check.append(obj.key)\n",
    "    print(obj.key)\n",
    "\n",
    "assert len(empty_check) !=0, 'S3 bucket is empty.'\n",
    "print('Test passed!')"
   ]
  },
  {
   "cell_type": "markdown",
   "metadata": {},
   "source": [
    "---\n",
    "\n",
    "# Modeling\n",
    "\n",
    "Now that you've uploaded your training data, it's time to define and train a model!\n",
    "\n",
    "The type of model you create is up to you. For a binary classification task, you can choose to go one of three routes:\n",
    "* Use a built-in classification algorithm, like LinearLearner.\n",
    "* Define a custom Scikit-learn classifier, a comparison of models can be found [here](https://scikit-learn.org/stable/auto_examples/classification/plot_classifier_comparison.html).\n",
    "* Define a custom PyTorch neural network classifier. \n",
    "\n",
    "It will be up to you to test out a variety of models and choose the best one. Your project will be graded on the accuracy of your final model. \n",
    " \n",
    "---\n",
    "\n",
    "## EXERCISE: Complete a training script \n",
    "\n",
    "To implement a custom classifier, you'll need to complete a `train.py` script. You've been given the folders `source_sklearn` and `source_pytorch` which hold starting code for a custom Scikit-learn model and a PyTorch model, respectively. Each directory has a `train.py` training script. To complete this project **you only need to complete one of these scripts**; the script that is responsible for training your final model.\n",
    "\n",
    "A typical training script:\n",
    "* Loads training data from a specified directory\n",
    "* Parses any training & model hyperparameters (ex. nodes in a neural network, training epochs, etc.)\n",
    "* Instantiates a model of your design, with any specified hyperparams\n",
    "* Trains that model \n",
    "* Finally, saves the model so that it can be hosted/deployed, later\n",
    "\n",
    "### Defining and training a model\n",
    "Much of the training script code is provided for you. Almost all of your work will be done in the `if __name__ == '__main__':` section. To complete a `train.py` file, you will:\n",
    "1. Import any extra libraries you need\n",
    "2. Define any additional model training hyperparameters using `parser.add_argument`\n",
    "2. Define a model in the `if __name__ == '__main__':` section\n",
    "3. Train the model in that same section\n",
    "\n",
    "Below, you can use `!pygmentize` to display an existing `train.py` file. Read through the code; all of your tasks are marked with `TODO` comments. \n",
    "\n",
    "**Note: If you choose to create a custom PyTorch model, you will be responsible for defining the model in the `model.py` file,** and a `predict.py` file is provided. If you choose to use Scikit-learn, you only need a `train.py` file; you may import a classifier from the `sklearn` library."
   ]
  },
  {
   "cell_type": "code",
   "execution_count": 10,
   "metadata": {},
   "outputs": [
    {
     "name": "stdout",
     "output_type": "stream",
     "text": [
      "\u001b[37m# torch imports\u001b[39;49;00m\n",
      "\u001b[34mimport\u001b[39;49;00m \u001b[04m\u001b[36mtorch\u001b[39;49;00m\u001b[04m\u001b[36m.\u001b[39;49;00m\u001b[04m\u001b[36mnn\u001b[39;49;00m\u001b[04m\u001b[36m.\u001b[39;49;00m\u001b[04m\u001b[36mfunctional\u001b[39;49;00m \u001b[34mas\u001b[39;49;00m \u001b[04m\u001b[36mF\u001b[39;49;00m\n",
      "\u001b[34mimport\u001b[39;49;00m \u001b[04m\u001b[36mtorch\u001b[39;49;00m\u001b[04m\u001b[36m.\u001b[39;49;00m\u001b[04m\u001b[36mnn\u001b[39;49;00m \u001b[34mas\u001b[39;49;00m \u001b[04m\u001b[36mnn\u001b[39;49;00m\n",
      "\n",
      "\n",
      "\u001b[37m## TODO: Complete this classifier\u001b[39;49;00m\n",
      "\u001b[34mclass\u001b[39;49;00m \u001b[04m\u001b[32mBinaryClassifier\u001b[39;49;00m(nn.Module):\n",
      "    \u001b[33m\"\"\"\u001b[39;49;00m\n",
      "\u001b[33m    Define a neural network that performs binary classification.\u001b[39;49;00m\n",
      "\u001b[33m    The network should accept your number of features as input, and produce \u001b[39;49;00m\n",
      "\u001b[33m    a single sigmoid value, that can be rounded to a label: 0 or 1, as output.\u001b[39;49;00m\n",
      "\u001b[33m    \u001b[39;49;00m\n",
      "\u001b[33m    Notes on training:\u001b[39;49;00m\n",
      "\u001b[33m    To train a binary classifier in PyTorch, use BCELoss.\u001b[39;49;00m\n",
      "\u001b[33m    BCELoss is binary cross entropy loss, documentation: https://pytorch.org/docs/stable/nn.html#torch.nn.BCELoss\u001b[39;49;00m\n",
      "\u001b[33m    \"\"\"\u001b[39;49;00m\n",
      "\n",
      "    \u001b[37m## TODO: Define the init function, the input params are required (for loading code in train.py to work)\u001b[39;49;00m\n",
      "    \u001b[34mdef\u001b[39;49;00m \u001b[32m__init__\u001b[39;49;00m(\u001b[36mself\u001b[39;49;00m, input_features, hidden_dim, output_dim):\n",
      "        \u001b[33m\"\"\"\u001b[39;49;00m\n",
      "\u001b[33m        Initialize the model by setting up linear layers.\u001b[39;49;00m\n",
      "\u001b[33m        Use the input parameters to help define the layers of your model.\u001b[39;49;00m\n",
      "\u001b[33m        :param input_features: the number of input features in your training/test data\u001b[39;49;00m\n",
      "\u001b[33m        :param hidden_dim: helps define the number of nodes in the hidden layer(s)\u001b[39;49;00m\n",
      "\u001b[33m        :param output_dim: the number of outputs you want to produce\u001b[39;49;00m\n",
      "\u001b[33m        \"\"\"\u001b[39;49;00m\n",
      "        \u001b[36msuper\u001b[39;49;00m(BinaryClassifier, \u001b[36mself\u001b[39;49;00m).\u001b[32m__init__\u001b[39;49;00m()\n",
      "\n",
      "        \u001b[37m# define any initial layers, here\u001b[39;49;00m\n",
      "        \n",
      "\n",
      "    \n",
      "    \u001b[37m## TODO: Define the feedforward behavior of the network\u001b[39;49;00m\n",
      "    \u001b[34mdef\u001b[39;49;00m \u001b[32mforward\u001b[39;49;00m(\u001b[36mself\u001b[39;49;00m, x):\n",
      "        \u001b[33m\"\"\"\u001b[39;49;00m\n",
      "\u001b[33m        Perform a forward pass of our model on input features, x.\u001b[39;49;00m\n",
      "\u001b[33m        :param x: A batch of input features of size (batch_size, input_features)\u001b[39;49;00m\n",
      "\u001b[33m        :return: A single, sigmoid-activated value as output\u001b[39;49;00m\n",
      "\u001b[33m        \"\"\"\u001b[39;49;00m\n",
      "        \n",
      "        \u001b[37m# define the feedforward behavior\u001b[39;49;00m\n",
      "        \n",
      "        \u001b[34mreturn\u001b[39;49;00m x\n",
      "    \n"
     ]
    }
   ],
   "source": [
    "# directory can be changed to: source_sklearn or source_pytorch\n",
    "!pygmentize source_pytorch/model.py"
   ]
  },
  {
   "cell_type": "markdown",
   "metadata": {},
   "source": [
    "### Provided code\n",
    "\n",
    "If you read the code above, you can see that the starter code includes a few things:\n",
    "* Model loading (`model_fn`) and saving code\n",
    "* Getting SageMaker's default hyperparameters\n",
    "* Loading the training data by name, `train.csv` and extracting the features and labels, `train_x`, and `train_y`\n",
    "\n",
    "If you'd like to read more about model saving with [joblib for sklearn](https://scikit-learn.org/stable/modules/model_persistence.html) or with [torch.save](https://pytorch.org/tutorials/beginner/saving_loading_models.html), click on the provided links."
   ]
  },
  {
   "cell_type": "markdown",
   "metadata": {},
   "source": [
    "---\n",
    "# Create an Estimator\n",
    "\n",
    "When a custom model is constructed in SageMaker, an entry point must be specified. This is the Python file which will be executed when the model is trained; the `train.py` function you specified above. To run a custom training script in SageMaker, construct an estimator, and fill in the appropriate constructor arguments:\n",
    "\n",
    "* **entry_point**: The path to the Python script SageMaker runs for training and prediction.\n",
    "* **source_dir**: The path to the training script directory `source_sklearn` OR `source_pytorch`.\n",
    "* **role**: Role ARN, which was specified, above.\n",
    "* **train_instance_count**: The number of training instances (should be left at 1).\n",
    "* **train_instance_type**: The type of SageMaker instance for training. Note: Because Scikit-learn does not natively support GPU training, Sagemaker Scikit-learn does not currently support training on GPU instance types.\n",
    "* **sagemaker_session**: The session used to train on Sagemaker.\n",
    "* **hyperparameters** (optional): A dictionary `{'name':value, ..}` passed to the train function as hyperparameters.\n",
    "\n",
    "Note: For a PyTorch model, there is another optional argument **framework_version**, which you can set to the latest version of PyTorch, `1.0`.\n",
    "\n",
    "## EXERCISE: Define a Scikit-learn or PyTorch estimator\n",
    "\n",
    "To import your desired estimator, use one of the following lines:\n",
    "```\n",
    "from sagemaker.sklearn.estimator import SKLearn\n",
    "```\n",
    "```\n",
    "from sagemaker.pytorch import PyTorch\n",
    "```"
   ]
  },
  {
   "cell_type": "code",
   "execution_count": 18,
   "metadata": {},
   "outputs": [
    {
     "name": "stderr",
     "output_type": "stream",
     "text": [
      "train_instance_count has been renamed in sagemaker>=2.\n",
      "See: https://sagemaker.readthedocs.io/en/stable/v2.html for details.\n",
      "train_instance_type has been renamed in sagemaker>=2.\n",
      "See: https://sagemaker.readthedocs.io/en/stable/v2.html for details.\n"
     ]
    }
   ],
   "source": [
    "output_path = 's3://{}/{}'.format(bucket, prefix)\n",
    "\n",
    "# your import and estimator code, here\n",
    "from sagemaker.pytorch import PyTorch\n",
    "\n",
    "pytorch_estimator = PyTorch(entry_point='train.py',\n",
    "                            source_dir='source_pytorch', # this should be just \"source\" for your code\n",
    "                            role=role,\n",
    "                            framework_version='1.0',\n",
    "                            py_version='py3',\n",
    "                            train_instance_count=1,\n",
    "                            train_instance_type='ml.c4.xlarge',\n",
    "                            output_path=output_path,\n",
    "                            sagemaker_session=sagemaker_session,\n",
    "                            hyperparameters={\n",
    "                                'input_features': 3,  # num of features\n",
    "                                'hidden_dim': 20,\n",
    "                                'output_dim': 1,\n",
    "                                'epochs': 80 # could change to higher\n",
    "                            })"
   ]
  },
  {
   "cell_type": "markdown",
   "metadata": {},
   "source": [
    "## EXERCISE: Train the estimator\n",
    "\n",
    "Train your estimator on the training data stored in S3. This should create a training job that you can monitor in your SageMaker console."
   ]
  },
  {
   "cell_type": "code",
   "execution_count": 19,
   "metadata": {},
   "outputs": [
    {
     "name": "stdout",
     "output_type": "stream",
     "text": [
      "2020-12-28 19:34:20 Starting - Starting the training job...\n",
      "2020-12-28 19:34:44 Starting - Launching requested ML instancesProfilerReport-1609184060: InProgress\n",
      "......\n",
      "2020-12-28 19:35:45 Starting - Preparing the instances for training...\n",
      "2020-12-28 19:36:15 Downloading - Downloading input data...\n",
      "2020-12-28 19:36:45 Training - Training image download completed. Training in progress.\u001b[34mbash: cannot set terminal process group (-1): Inappropriate ioctl for device\u001b[0m\n",
      "\u001b[34mbash: no job control in this shell\u001b[0m\n",
      "\u001b[34m2020-12-28 19:36:43,812 sagemaker-containers INFO     Imported framework sagemaker_pytorch_container.training\u001b[0m\n",
      "\u001b[34m2020-12-28 19:36:43,815 sagemaker-containers INFO     No GPUs detected (normal if no gpus installed)\u001b[0m\n",
      "\u001b[34m2020-12-28 19:36:43,828 sagemaker_pytorch_container.training INFO     Block until all host DNS lookups succeed.\u001b[0m\n",
      "\u001b[34m2020-12-28 19:36:46,843 sagemaker_pytorch_container.training INFO     Invoking user training script.\u001b[0m\n",
      "\u001b[34m2020-12-28 19:36:47,111 sagemaker-containers INFO     Module train does not provide a setup.py. \u001b[0m\n",
      "\u001b[34mGenerating setup.py\u001b[0m\n",
      "\u001b[34m2020-12-28 19:36:47,111 sagemaker-containers INFO     Generating setup.cfg\u001b[0m\n",
      "\u001b[34m2020-12-28 19:36:47,111 sagemaker-containers INFO     Generating MANIFEST.in\u001b[0m\n",
      "\u001b[34m2020-12-28 19:36:47,111 sagemaker-containers INFO     Installing module with the following command:\u001b[0m\n",
      "\u001b[34m/usr/bin/python -m pip install -U . \u001b[0m\n",
      "\u001b[34mProcessing /opt/ml/code\u001b[0m\n",
      "\u001b[34mBuilding wheels for collected packages: train\n",
      "  Running setup.py bdist_wheel for train: started\u001b[0m\n",
      "\u001b[34m  Running setup.py bdist_wheel for train: finished with status 'done'\n",
      "  Stored in directory: /tmp/pip-ephem-wheel-cache-_2zfsla3/wheels/35/24/16/37574d11bf9bde50616c67372a334f94fa8356bc7164af8ca3\u001b[0m\n",
      "\u001b[34mSuccessfully built train\u001b[0m\n",
      "\u001b[34mInstalling collected packages: train\u001b[0m\n",
      "\u001b[34mSuccessfully installed train-1.0.0\u001b[0m\n",
      "\u001b[34mYou are using pip version 18.1, however version 20.3.3 is available.\u001b[0m\n",
      "\u001b[34mYou should consider upgrading via the 'pip install --upgrade pip' command.\u001b[0m\n",
      "\u001b[34m2020-12-28 19:36:48,772 sagemaker-containers INFO     No GPUs detected (normal if no gpus installed)\u001b[0m\n",
      "\u001b[34m2020-12-28 19:36:48,784 sagemaker-containers INFO     Invoking user script\n",
      "\u001b[0m\n",
      "\u001b[34mTraining Env:\n",
      "\u001b[0m\n",
      "\u001b[34m{\n",
      "    \"additional_framework_parameters\": {},\n",
      "    \"channel_input_dirs\": {\n",
      "        \"train\": \"/opt/ml/input/data/train\"\n",
      "    },\n",
      "    \"current_host\": \"algo-1\",\n",
      "    \"framework_module\": \"sagemaker_pytorch_container.training:main\",\n",
      "    \"hosts\": [\n",
      "        \"algo-1\"\n",
      "    ],\n",
      "    \"hyperparameters\": {\n",
      "        \"hidden_dim\": 20,\n",
      "        \"input_features\": 3,\n",
      "        \"epochs\": 80,\n",
      "        \"output_dim\": 1\n",
      "    },\n",
      "    \"input_config_dir\": \"/opt/ml/input/config\",\n",
      "    \"input_data_config\": {\n",
      "        \"train\": {\n",
      "            \"TrainingInputMode\": \"File\",\n",
      "            \"S3DistributionType\": \"FullyReplicated\",\n",
      "            \"RecordWrapperType\": \"None\"\n",
      "        }\n",
      "    },\n",
      "    \"input_dir\": \"/opt/ml/input\",\n",
      "    \"is_master\": true,\n",
      "    \"job_name\": \"sagemaker-pytorch-2020-12-28-19-34-20-446\",\n",
      "    \"log_level\": 20,\n",
      "    \"master_hostname\": \"algo-1\",\n",
      "    \"model_dir\": \"/opt/ml/model\",\n",
      "    \"module_dir\": \"s3://sagemaker-ap-south-1-323951576724/sagemaker-pytorch-2020-12-28-19-34-20-446/source/sourcedir.tar.gz\",\n",
      "    \"module_name\": \"train\",\n",
      "    \"network_interface_name\": \"eth0\",\n",
      "    \"num_cpus\": 4,\n",
      "    \"num_gpus\": 0,\n",
      "    \"output_data_dir\": \"/opt/ml/output/data\",\n",
      "    \"output_dir\": \"/opt/ml/output\",\n",
      "    \"output_intermediate_dir\": \"/opt/ml/output/intermediate\",\n",
      "    \"resource_config\": {\n",
      "        \"current_host\": \"algo-1\",\n",
      "        \"hosts\": [\n",
      "            \"algo-1\"\n",
      "        ],\n",
      "        \"network_interface_name\": \"eth0\"\n",
      "    },\n",
      "    \"user_entry_point\": \"train.py\"\u001b[0m\n",
      "\u001b[34m}\n",
      "\u001b[0m\n",
      "\u001b[34mEnvironment variables:\n",
      "\u001b[0m\n",
      "\u001b[34mSM_HOSTS=[\"algo-1\"]\u001b[0m\n",
      "\u001b[34mSM_NETWORK_INTERFACE_NAME=eth0\u001b[0m\n",
      "\u001b[34mSM_HPS={\"epochs\":80,\"hidden_dim\":20,\"input_features\":3,\"output_dim\":1}\u001b[0m\n",
      "\u001b[34mSM_USER_ENTRY_POINT=train.py\u001b[0m\n",
      "\u001b[34mSM_FRAMEWORK_PARAMS={}\u001b[0m\n",
      "\u001b[34mSM_RESOURCE_CONFIG={\"current_host\":\"algo-1\",\"hosts\":[\"algo-1\"],\"network_interface_name\":\"eth0\"}\u001b[0m\n",
      "\u001b[34mSM_INPUT_DATA_CONFIG={\"train\":{\"RecordWrapperType\":\"None\",\"S3DistributionType\":\"FullyReplicated\",\"TrainingInputMode\":\"File\"}}\u001b[0m\n",
      "\u001b[34mSM_OUTPUT_DATA_DIR=/opt/ml/output/data\u001b[0m\n",
      "\u001b[34mSM_CHANNELS=[\"train\"]\u001b[0m\n",
      "\u001b[34mSM_CURRENT_HOST=algo-1\u001b[0m\n",
      "\u001b[34mSM_MODULE_NAME=train\u001b[0m\n",
      "\u001b[34mSM_LOG_LEVEL=20\u001b[0m\n",
      "\u001b[34mSM_FRAMEWORK_MODULE=sagemaker_pytorch_container.training:main\u001b[0m\n",
      "\u001b[34mSM_INPUT_DIR=/opt/ml/input\u001b[0m\n",
      "\u001b[34mSM_INPUT_CONFIG_DIR=/opt/ml/input/config\u001b[0m\n",
      "\u001b[34mSM_OUTPUT_DIR=/opt/ml/output\u001b[0m\n",
      "\u001b[34mSM_NUM_CPUS=4\u001b[0m\n",
      "\u001b[34mSM_NUM_GPUS=0\u001b[0m\n",
      "\u001b[34mSM_MODEL_DIR=/opt/ml/model\u001b[0m\n",
      "\u001b[34mSM_MODULE_DIR=s3://sagemaker-ap-south-1-323951576724/sagemaker-pytorch-2020-12-28-19-34-20-446/source/sourcedir.tar.gz\u001b[0m\n",
      "\u001b[34mSM_TRAINING_ENV={\"additional_framework_parameters\":{},\"channel_input_dirs\":{\"train\":\"/opt/ml/input/data/train\"},\"current_host\":\"algo-1\",\"framework_module\":\"sagemaker_pytorch_container.training:main\",\"hosts\":[\"algo-1\"],\"hyperparameters\":{\"epochs\":80,\"hidden_dim\":20,\"input_features\":3,\"output_dim\":1},\"input_config_dir\":\"/opt/ml/input/config\",\"input_data_config\":{\"train\":{\"RecordWrapperType\":\"None\",\"S3DistributionType\":\"FullyReplicated\",\"TrainingInputMode\":\"File\"}},\"input_dir\":\"/opt/ml/input\",\"is_master\":true,\"job_name\":\"sagemaker-pytorch-2020-12-28-19-34-20-446\",\"log_level\":20,\"master_hostname\":\"algo-1\",\"model_dir\":\"/opt/ml/model\",\"module_dir\":\"s3://sagemaker-ap-south-1-323951576724/sagemaker-pytorch-2020-12-28-19-34-20-446/source/sourcedir.tar.gz\",\"module_name\":\"train\",\"network_interface_name\":\"eth0\",\"num_cpus\":4,\"num_gpus\":0,\"output_data_dir\":\"/opt/ml/output/data\",\"output_dir\":\"/opt/ml/output\",\"output_intermediate_dir\":\"/opt/ml/output/intermediate\",\"resource_config\":{\"current_host\":\"algo-1\",\"hosts\":[\"algo-1\"],\"network_interface_name\":\"eth0\"},\"user_entry_point\":\"train.py\"}\u001b[0m\n",
      "\u001b[34mSM_USER_ARGS=[\"--epochs\",\"80\",\"--hidden_dim\",\"20\",\"--input_features\",\"3\",\"--output_dim\",\"1\"]\u001b[0m\n",
      "\u001b[34mSM_OUTPUT_INTERMEDIATE_DIR=/opt/ml/output/intermediate\u001b[0m\n",
      "\u001b[34mSM_CHANNEL_TRAIN=/opt/ml/input/data/train\u001b[0m\n",
      "\u001b[34mSM_HP_HIDDEN_DIM=20\u001b[0m\n",
      "\u001b[34mSM_HP_INPUT_FEATURES=3\u001b[0m\n",
      "\u001b[34mSM_HP_EPOCHS=80\u001b[0m\n",
      "\u001b[34mSM_HP_OUTPUT_DIM=1\u001b[0m\n",
      "\u001b[34mPYTHONPATH=/usr/local/bin:/usr/lib/python36.zip:/usr/lib/python3.6:/usr/lib/python3.6/lib-dynload:/usr/local/lib/python3.6/dist-packages:/usr/lib/python3/dist-packages\n",
      "\u001b[0m\n",
      "\u001b[34mInvoking script with the following command:\n",
      "\u001b[0m\n",
      "\u001b[34m/usr/bin/python -m train --epochs 80 --hidden_dim 20 --input_features 3 --output_dim 1\n",
      "\n",
      "\u001b[0m\n",
      "\u001b[34mUsing device cpu.\u001b[0m\n",
      "\u001b[34mGet train data loader.\u001b[0m\n",
      "\u001b[34mEpoch: 1, Loss: 0.7016157252447945\u001b[0m\n",
      "\u001b[34mEpoch: 2, Loss: 0.6957669683865139\u001b[0m\n",
      "\u001b[34mEpoch: 3, Loss: 0.6888980354581561\u001b[0m\n",
      "\u001b[34mEpoch: 4, Loss: 0.6925992795399257\u001b[0m\n",
      "\u001b[34mEpoch: 5, Loss: 0.6864379729543414\u001b[0m\n",
      "\u001b[34mEpoch: 6, Loss: 0.6840861780302865\u001b[0m\n",
      "\u001b[34mEpoch: 7, Loss: 0.675257010119302\u001b[0m\n",
      "\u001b[34mEpoch: 8, Loss: 0.6675849982670375\u001b[0m\n",
      "\u001b[34mEpoch: 9, Loss: 0.6592843447412763\u001b[0m\n",
      "\u001b[34mEpoch: 10, Loss: 0.6606408017022269\u001b[0m\n",
      "\u001b[34mEpoch: 11, Loss: 0.64441465479987\u001b[0m\n",
      "\u001b[34mEpoch: 12, Loss: 0.6235478690692356\u001b[0m\n",
      "\u001b[34mEpoch: 13, Loss: 0.6284142988068717\u001b[0m\n",
      "\u001b[34mEpoch: 14, Loss: 0.6436805895396641\u001b[0m\n",
      "\u001b[34mEpoch: 15, Loss: 0.6160327962466648\u001b[0m\n",
      "\u001b[34mEpoch: 16, Loss: 0.6172348856925964\u001b[0m\n",
      "\u001b[34mEpoch: 17, Loss: 0.5965987869671413\u001b[0m\n",
      "\u001b[34mEpoch: 18, Loss: 0.607019943850381\u001b[0m\n",
      "\u001b[34mEpoch: 19, Loss: 0.5704174382346017\u001b[0m\n",
      "\u001b[34mEpoch: 20, Loss: 0.5677313549177987\u001b[0m\n",
      "\u001b[34mEpoch: 21, Loss: 0.5516814844948905\u001b[0m\n",
      "\u001b[34mEpoch: 22, Loss: 0.5367229240281242\u001b[0m\n",
      "\u001b[34mEpoch: 23, Loss: 0.4992879160812923\u001b[0m\n",
      "\u001b[34mEpoch: 24, Loss: 0.4853088174547468\u001b[0m\n",
      "\u001b[34mEpoch: 25, Loss: 0.46147063800266813\u001b[0m\n",
      "\u001b[34mEpoch: 26, Loss: 0.4383732421057565\u001b[0m\n",
      "\u001b[34mEpoch: 27, Loss: 0.43029064365795683\u001b[0m\n",
      "\u001b[34mEpoch: 28, Loss: 0.4185747674533299\u001b[0m\n",
      "\u001b[34mEpoch: 29, Loss: 0.40278791955539156\u001b[0m\n",
      "\u001b[34mEpoch: 30, Loss: 0.38785363946642193\u001b[0m\n",
      "\u001b[34mEpoch: 31, Loss: 0.38956759231431143\u001b[0m\n",
      "\u001b[34mEpoch: 32, Loss: 0.3762449153832027\u001b[0m\n",
      "\u001b[34mEpoch: 33, Loss: 0.3732494115829468\u001b[0m\n",
      "\u001b[34mEpoch: 34, Loss: 0.362688273191452\u001b[0m\n",
      "\u001b[34mEpoch: 35, Loss: 0.36261655177388874\u001b[0m\n",
      "\u001b[34mEpoch: 36, Loss: 0.34162947109767366\u001b[0m\n",
      "\u001b[34mEpoch: 37, Loss: 0.3505743699414389\u001b[0m\n",
      "\u001b[34mEpoch: 38, Loss: 0.34329558270318167\u001b[0m\n",
      "\u001b[34mEpoch: 39, Loss: 0.3366756056036268\u001b[0m\n",
      "\u001b[34mEpoch: 40, Loss: 0.33765702162470135\u001b[0m\n",
      "\u001b[34mEpoch: 41, Loss: 0.3291843150343214\u001b[0m\n",
      "\u001b[34mEpoch: 42, Loss: 0.3209878887448992\u001b[0m\n",
      "\u001b[34mEpoch: 43, Loss: 0.32021028654915945\u001b[0m\n",
      "\u001b[34mEpoch: 44, Loss: 0.31783623354775564\u001b[0m\n",
      "\u001b[34mEpoch: 45, Loss: 0.31135416882378714\u001b[0m\n",
      "\u001b[34mEpoch: 46, Loss: 0.3170861942427499\u001b[0m\n",
      "\u001b[34mEpoch: 47, Loss: 0.3133055397442409\u001b[0m\n",
      "\u001b[34mEpoch: 48, Loss: 0.3139441524233137\u001b[0m\n",
      "\u001b[34mEpoch: 49, Loss: 0.3083108067512512\u001b[0m\n",
      "\u001b[34mEpoch: 50, Loss: 0.3004384125982012\u001b[0m\n",
      "\u001b[34mEpoch: 51, Loss: 0.2991901295525687\u001b[0m\n",
      "\u001b[34mEpoch: 52, Loss: 0.30108646622725893\u001b[0m\n",
      "\u001b[34mEpoch: 53, Loss: 0.2978940563542502\u001b[0m\n",
      "\u001b[34mEpoch: 54, Loss: 0.2907927291733878\u001b[0m\n",
      "\u001b[34mEpoch: 55, Loss: 0.29126940029008047\u001b[0m\n",
      "\u001b[34mEpoch: 56, Loss: 0.2992521034819739\u001b[0m\n",
      "\u001b[34mEpoch: 57, Loss: 0.30081517355782644\u001b[0m\n",
      "\u001b[34mEpoch: 58, Loss: 0.2807583085128239\u001b[0m\n",
      "\u001b[34mEpoch: 59, Loss: 0.28691659229142324\u001b[0m\n",
      "\u001b[34mEpoch: 60, Loss: 0.2933603035552161\u001b[0m\n",
      "\u001b[34mEpoch: 61, Loss: 0.2880946397781372\u001b[0m\n",
      "\u001b[34mEpoch: 62, Loss: 0.28670155150549753\u001b[0m\n",
      "\u001b[34mEpoch: 63, Loss: 0.2867071564708437\u001b[0m\n",
      "\u001b[34mEpoch: 64, Loss: 0.2781242664371218\u001b[0m\n",
      "\u001b[34mEpoch: 65, Loss: 0.27974744353975567\u001b[0m\n",
      "\u001b[34mEpoch: 66, Loss: 0.2790676312787192\u001b[0m\n",
      "\u001b[34mEpoch: 67, Loss: 0.28154692479542326\u001b[0m\n",
      "\u001b[34mEpoch: 68, Loss: 0.2807373894112451\u001b[0m\n",
      "\u001b[34mEpoch: 69, Loss: 0.2725864733968462\u001b[0m\n",
      "\u001b[34mEpoch: 70, Loss: 0.27810812635081156\u001b[0m\n",
      "\u001b[34mEpoch: 71, Loss: 0.27974946584020344\u001b[0m\n",
      "\u001b[34mEpoch: 72, Loss: 0.2749173960515431\u001b[0m\n",
      "\u001b[34mEpoch: 73, Loss: 0.26428561764104025\u001b[0m\n",
      "\u001b[34mEpoch: 74, Loss: 0.27521658156599316\u001b[0m\n",
      "\u001b[34mEpoch: 75, Loss: 0.26801122086388723\u001b[0m\n",
      "\u001b[34mEpoch: 76, Loss: 0.2722816616296768\u001b[0m\n",
      "\u001b[34mEpoch: 77, Loss: 0.27026075550488066\u001b[0m\n",
      "\u001b[34mEpoch: 78, Loss: 0.262073563677924\u001b[0m\n",
      "\u001b[34mEpoch: 79, Loss: 0.2710703504937036\u001b[0m\n",
      "\u001b[34mEpoch: 80, Loss: 0.26982582041195463\u001b[0m\n",
      "\u001b[34m2020-12-28 19:36:50,775 sagemaker-containers INFO     Reporting training SUCCESS\u001b[0m\n",
      "\n",
      "2020-12-28 19:37:06 Uploading - Uploading generated training model\n",
      "2020-12-28 19:37:06 Completed - Training job completed\n",
      "Training seconds: 45\n",
      "Billable seconds: 45\n",
      "CPU times: user 495 ms, sys: 7.34 ms, total: 502 ms\n",
      "Wall time: 3min 11s\n"
     ]
    }
   ],
   "source": [
    "%%time\n",
    "\n",
    "# Train your estimator on S3 training data\n",
    "# sklearn_estimator.fit({'train': 's3://sagemaker-ap-south-1-323951576724/plagiarism-detector'})\n",
    "pytorch_estimator.fit({'train': input_data})"
   ]
  },
  {
   "cell_type": "markdown",
   "metadata": {},
   "source": [
    "## EXERCISE: Deploy the trained model\n",
    "\n",
    "After training, deploy your model to create a `predictor`. If you're using a PyTorch model, you'll need to create a trained `PyTorchModel` that accepts the trained `<model>.model_data` as an input parameter and points to the provided `source_pytorch/predict.py` file as an entry point. \n",
    "\n",
    "To deploy a trained model, you'll use `<model>.deploy`, which takes in two arguments:\n",
    "* **initial_instance_count**: The number of deployed instances (1).\n",
    "* **instance_type**: The type of SageMaker instance for deployment.\n",
    "\n",
    "Note: If you run into an instance error, it may be because you chose the wrong training or deployment instance_type. It may help to refer to your previous exercise code to see which types of instances we used."
   ]
  },
  {
   "cell_type": "code",
   "execution_count": 23,
   "metadata": {},
   "outputs": [
    {
     "name": "stdout",
     "output_type": "stream",
     "text": [
      "-------------!CPU times: user 351 ms, sys: 11.8 ms, total: 362 ms\n",
      "Wall time: 6min 31s\n"
     ]
    }
   ],
   "source": [
    "%%time\n",
    "\n",
    "# uncomment, if needed\n",
    "from sagemaker.pytorch import PyTorchModel\n",
    "\n",
    "pytorch_model = PyTorchModel(model_data=pytorch_estimator.model_data,\n",
    "                             role = role,\n",
    "                             framework_version='1.0',\n",
    "                             py_version='py3',   \n",
    "                             entry_point='predict.py',\n",
    "                             source_dir='source_pytorch')\n",
    "\n",
    "\n",
    "# deploy your model to create a predictor\n",
    "pytorch_predictor = pytorch_model.deploy(initial_instance_count=1, instance_type='ml.t2.xlarge')\n"
   ]
  },
  {
   "cell_type": "markdown",
   "metadata": {},
   "source": [
    "---\n",
    "# Evaluating Your Model\n",
    "\n",
    "Once your model is deployed, you can see how it performs when applied to our test data.\n",
    "\n",
    "The provided cell below, reads in the test data, assuming it is stored locally in `data_dir` and named `test.csv`. The labels and features are extracted from the `.csv` file."
   ]
  },
  {
   "cell_type": "code",
   "execution_count": 24,
   "metadata": {},
   "outputs": [],
   "source": [
    "\"\"\"\n",
    "DON'T MODIFY ANYTHING IN THIS CELL THAT IS BELOW THIS LINE\n",
    "\"\"\"\n",
    "import os\n",
    "\n",
    "# read in test data, assuming it is stored locally\n",
    "test_data = pd.read_csv(os.path.join(data_dir, \"test.csv\"), header=None, names=None)\n",
    "\n",
    "# labels are in the first column\n",
    "test_y = test_data.iloc[:,0]\n",
    "test_x = test_data.iloc[:,1:]"
   ]
  },
  {
   "cell_type": "markdown",
   "metadata": {},
   "source": [
    "## EXERCISE: Determine the accuracy of your model\n",
    "\n",
    "Use your deployed `predictor` to generate predicted, class labels for the test data. Compare those to the *true* labels, `test_y`, and calculate the accuracy as a value between 0 and 1.0 that indicates the fraction of test data that your model classified correctly. You may use [sklearn.metrics](https://scikit-learn.org/stable/modules/classes.html#module-sklearn.metrics) for this calculation.\n",
    "\n",
    "**To pass this project, your model should get at least 90% test accuracy.**"
   ]
  },
  {
   "cell_type": "code",
   "execution_count": 31,
   "metadata": {},
   "outputs": [],
   "source": [
    "import numpy as np"
   ]
  },
  {
   "cell_type": "code",
   "execution_count": 29,
   "metadata": {},
   "outputs": [
    {
     "name": "stdout",
     "output_type": "stream",
     "text": [
      "Test passed!\n"
     ]
    }
   ],
   "source": [
    "# First: generate predicted, class labels\n",
    "test_y_preds = np.squeeze(np.round(pytorch_predictor.predict(test_x)))\n",
    "\n",
    "\n",
    "\"\"\"\n",
    "DON'T MODIFY ANYTHING IN THIS CELL THAT IS BELOW THIS LINE\n",
    "\"\"\"\n",
    "# test that your model generates the correct number of labels\n",
    "assert len(test_y_preds)==len(test_y), 'Unexpected number of predictions.'\n",
    "print('Test passed!')"
   ]
  },
  {
   "cell_type": "code",
   "execution_count": 30,
   "metadata": {},
   "outputs": [
    {
     "name": "stdout",
     "output_type": "stream",
     "text": [
      "1.0\n",
      "\n",
      "Predicted class labels: \n",
      "[1. 1. 1. 1. 1. 1. 0. 1. 1. 1. 0. 0. 0. 0. 1. 1. 1. 1. 0. 1. 1. 0. 0. 0.\n",
      " 0.]\n",
      "\n",
      "True class labels: \n",
      "[1 1 1 1 1 1 0 1 1 1 0 0 0 0 1 1 1 1 0 1 1 0 0 0 0]\n"
     ]
    }
   ],
   "source": [
    "# Second: calculate the test accuracy\n",
    "from sklearn.metrics import accuracy_score\n",
    "accuracy = accuracy_score(test_y, test_y_preds)\n",
    "\n",
    "print(accuracy)\n",
    "\n",
    "\n",
    "## print out the array of predicted and true labels, if you want\n",
    "print('\\nPredicted class labels: ')\n",
    "print(test_y_preds)\n",
    "print('\\nTrue class labels: ')\n",
    "print(test_y.values)"
   ]
  },
  {
   "cell_type": "code",
   "execution_count": 34,
   "metadata": {},
   "outputs": [],
   "source": [
    "from sklearn.metrics import confusion_matrix\n",
    "\n",
    "cm = confusion_matrix(test_y, test_y_preds)"
   ]
  },
  {
   "cell_type": "code",
   "execution_count": 35,
   "metadata": {},
   "outputs": [
    {
     "data": {
      "image/png": "[encoded data removed]",
      "text/plain": [
       "<Figure size 432x288 with 2 Axes>"
      ]
     },
     "metadata": {
      "needs_background": "light"
     },
     "output_type": "display_data"
    }
   ],
   "source": [
    "import matplotlib.pyplot as plt\n",
    "import seaborn as sns\n",
    "\n",
    "# Code from https://stackoverflow.com/questions/19233771/sklearn-plot-confusion-matrix-with-labels\n",
    "\n",
    "ax= plt.subplot()\n",
    "sns.heatmap(cm, annot=True, ax = ax)\n",
    "ax.set_xlabel('Predicted labels');ax.set_ylabel('True labels');"
   ]
  },
  {
   "cell_type": "markdown",
   "metadata": {},
   "source": [
    "### Question 1: How many false positives and false negatives did your model produce, if any? And why do you think this is?"
   ]
  },
  {
   "cell_type": "markdown",
   "metadata": {},
   "source": [
    "** Answer**: Zero False Positive & Zero False Negatives. The neural network classifier seem to be pretty robust and efficient in capturing the decision boundary or the nature of the dataset makes this distinction easy.\n"
   ]
  },
  {
   "cell_type": "markdown",
   "metadata": {},
   "source": [
    "### Question 2: How did you decide on the type of model to use? "
   ]
  },
  {
   "cell_type": "markdown",
   "metadata": {},
   "source": [
    "** Answer**: A simple network with with few layers got the job done. Also, tried different sklearn models with similar results. Feature slection seems to matter more than the kind of model or hyperparameters being used. "
   ]
  },
  {
   "cell_type": "markdown",
   "metadata": {},
   "source": [
    "----\n",
    "## EXERCISE: Clean up Resources\n",
    "\n",
    "After you're done evaluating your model, **delete your model endpoint**. You can do this with a call to `.delete_endpoint()`. You need to show, in this notebook, that the endpoint was deleted. Any other resources, you may delete from the AWS console, and you will find more instructions on cleaning up all your resources, below."
   ]
  },
  {
   "cell_type": "code",
   "execution_count": 37,
   "metadata": {},
   "outputs": [],
   "source": [
    "# uncomment and fill in the line below!\n",
    "# <name_of_deployed_predictor>.delete_endpoint()\n",
    "pytorch_predictor.delete_endpoint()"
   ]
  },
  {
   "cell_type": "markdown",
   "metadata": {},
   "source": [
    "### Deleting S3 bucket\n",
    "\n",
    "When you are *completely* done with training and testing models, you can also delete your entire S3 bucket. If you do this before you are done training your model, you'll have to recreate your S3 bucket and upload your training data again."
   ]
  },
  {
   "cell_type": "code",
   "execution_count": 38,
   "metadata": {},
   "outputs": [
    {
     "data": {
      "text/plain": [
       "[{'ResponseMetadata': {'RequestId': 'B23E4EF48765BDA9',\n",
       "   'HostId': '0frRUAUqKDLZDNPrl9yK9USQ4JFhfosARPlKhLp9mX545bxk1gzWrUEi+THVgC79kwOHq7kNkYI=',\n",
       "   'HTTPStatusCode': 200,\n",
       "   'HTTPHeaders': {'x-amz-id-2': '0frRUAUqKDLZDNPrl9yK9USQ4JFhfosARPlKhLp9mX545bxk1gzWrUEi+THVgC79kwOHq7kNkYI=',\n",
       "    'x-amz-request-id': 'B23E4EF48765BDA9',\n",
       "    'date': 'Mon, 28 Dec 2020 20:04:25 GMT',\n",
       "    'connection': 'close',\n",
       "    'content-type': 'application/xml',\n",
       "    'transfer-encoding': 'chunked',\n",
       "    'server': 'AmazonS3'},\n",
       "   'RetryAttempts': 0},\n",
       "  'Deleted': [{'Key': 'plagiarism-detector/test.csv'},\n",
       "   {'Key': 'plagiarism-detector/sagemaker-pytorch-2020-12-28-19-29-52-901/rule-output/ProfilerReport-1609183792/profiler-output/profiler-reports/GPUMemoryIncrease.json'},\n",
       "   {'Key': 'sagemaker-pytorch-2020-12-28-19-17-29-496/source/sourcedir.tar.gz'},\n",
       "   {'Key': 'plagiarism-detector/sagemaker-pytorch-2020-12-28-19-17-29-496/profiler-output/system/incremental/2020122819/1609183140.algo-1.json'},\n",
       "   {'Key': 'plagiarism-detector/sagemaker-pytorch-2020-12-28-19-29-52-901/rule-output/ProfilerReport-1609183792/profiler-output/profiler-reports/BatchSize.json'},\n",
       "   {'Key': 'plagiarism-detector/sagemaker-pytorch-2020-12-28-19-34-20-446/profiler-output/framework/training_job_end.ts'},\n",
       "   {'Key': 'plagiarism-detector/sagemaker-pytorch-2020-12-28-19-34-20-446/profiler-output/system/incremental/2020122819/1609184160.algo-1.json'},\n",
       "   {'Key': 'plagiarism-detector/sagemaker-pytorch-2020-12-28-19-29-52-901/rule-output/ProfilerReport-1609183792/profiler-output/profiler-reports/OverallFrameworkMetrics.json'},\n",
       "   {'Key': 'plagiarism-detector/sagemaker-pytorch-2020-12-28-19-24-19-549/profiler-output/system/incremental/2020122819/1609183560.algo-1.json'},\n",
       "   {'Key': 'plagiarism-detector/sagemaker-pytorch-2020-12-28-19-29-52-901/rule-output/ProfilerReport-1609183792/profiler-output/profiler-reports/StepOutlier.json'},\n",
       "   {'Key': 'plagiarism-detector/sagemaker-pytorch-2020-12-28-19-34-20-446/debug-output/training_job_end.ts'},\n",
       "   {'Key': 'plagiarism-detector/train.csv'},\n",
       "   {'Key': 'plagiarism-detector/sagemaker-pytorch-2020-12-28-19-29-52-901/rule-output/ProfilerReport-1609183792/profiler-output/profiler-report.ipynb'},\n",
       "   {'Key': 'plagiarism-detector/sagemaker-pytorch-2020-12-28-19-29-52-901/rule-output/ProfilerReport-1609183792/profiler-output/profiler-reports/OverallSystemUsage.json'},\n",
       "   {'Key': 'plagiarism-detector/sagemaker-pytorch-2020-12-28-19-29-52-901/rule-output/ProfilerReport-1609183792/profiler-output/profiler-report.html'},\n",
       "   {'Key': 'sagemaker-pytorch-2020-12-28-19-24-19-549/source/sourcedir.tar.gz'},\n",
       "   {'Key': 'plagiarism-detector/sagemaker-pytorch-2020-12-28-19-34-20-446/output/model.tar.gz'},\n",
       "   {'Key': 'sagemaker-pytorch-2020-12-28-19-29-52-901/source/sourcedir.tar.gz'},\n",
       "   {'Key': 'plagiarism-detector/.ipynb_checkpoints/train-checkpoint.csv'},\n",
       "   {'Key': 'plagiarism-detector/sagemaker-pytorch-2020-12-28-19-29-52-901/rule-output/ProfilerReport-1609183792/profiler-output/profiler-reports/Dataloader.json'},\n",
       "   {'Key': 'plagiarism-detector/sagemaker-pytorch-2020-12-28-19-29-52-901/rule-output/ProfilerReport-1609183792/profiler-output/profiler-reports/LowGPUUtilization.json'},\n",
       "   {'Key': 'plagiarism-detector/sagemaker-pytorch-2020-12-28-19-29-52-901/rule-output/ProfilerReport-1609183792/profiler-output/profiler-reports/LoadBalancing.json'},\n",
       "   {'Key': 'sagemaker-pytorch-2020-12-28-19-45-16-011/sourcedir.tar.gz'},\n",
       "   {'Key': 'plagiarism-detector/sagemaker-pytorch-2020-12-28-19-29-52-901/profiler-output/system/incremental/2020122819/1609183920.algo-1.json'},\n",
       "   {'Key': 'plagiarism-detector/sagemaker-pytorch-2020-12-28-19-29-52-901/rule-output/ProfilerReport-1609183792/profiler-output/profiler-reports/MaxInitializationTime.json'},\n",
       "   {'Key': 'plagiarism-detector/sagemaker-pytorch-2020-12-28-19-34-20-446/profiler-output/system/training_job_end.ts'},\n",
       "   {'Key': 'plagiarism-detector/sagemaker-pytorch-2020-12-28-19-29-52-901/rule-output/ProfilerReport-1609183792/profiler-output/profiler-reports/IOBottleneck.json'},\n",
       "   {'Key': 'plagiarism-detector/sagemaker-pytorch-2020-12-28-19-29-52-901/rule-output/ProfilerReport-1609183792/profiler-output/profiler-reports/CPUBottleneck.json'},\n",
       "   {'Key': 'plagiarism-detector/sagemaker-pytorch-2020-12-28-19-29-52-901/profiler-output/system/incremental/2020122819/1609183980.algo-1.json'},\n",
       "   {'Key': 'sagemaker-pytorch-2020-12-28-19-34-20-446/source/sourcedir.tar.gz'}]}]"
      ]
     },
     "execution_count": 38,
     "metadata": {},
     "output_type": "execute_result"
    }
   ],
   "source": [
    "# deleting bucket, uncomment lines below\n",
    "\n",
    "bucket_to_delete = boto3.resource('s3').Bucket(bucket)\n",
    "bucket_to_delete.objects.all().delete()"
   ]
  },
  {
   "cell_type": "markdown",
   "metadata": {},
   "source": [
    "### Deleting all your models and instances\n",
    "\n",
    "When you are _completely_ done with this project and do **not** ever want to revisit this notebook, you can choose to delete all of your SageMaker notebook instances and models by following [these instructions](https://docs.aws.amazon.com/sagemaker/latest/dg/ex1-cleanup.html). Before you delete this notebook instance, I recommend at least downloading a copy and saving it, locally."
   ]
  },
  {
   "cell_type": "markdown",
   "metadata": {},
   "source": [
    "---\n",
    "## Further Directions\n",
    "\n",
    "There are many ways to improve or add on to this project to expand your learning or make this more of a unique project for you. A few ideas are listed below:\n",
    "* Train a classifier to predict the *category* (1-3) of plagiarism and not just plagiarized (1) or not (0).\n",
    "* Utilize a different and larger dataset to see if this model can be extended to other types of plagiarism.\n",
    "* Use language or character-level analysis to find different (and more) similarity features.\n",
    "* Write a complete pipeline function that accepts a source text and submitted text file, and classifies the submitted text as plagiarized or not.\n",
    "* Use API Gateway and a lambda function to deploy your model to a web application.\n",
    "\n",
    "These are all just options for extending your work. If you've completed all the exercises in this notebook, you've completed a real-world application, and can proceed to submit your project. Great job!"
   ]
  }
 ],
 "metadata": {
  "kernelspec": {
   "display_name": "conda_pytorch_p36",
   "language": "python",
   "name": "conda_pytorch_p36"
  },
  "language_info": {
   "codemirror_mode": {
    "name": "ipython",
    "version": 3
   },
   "file_extension": ".py",
   "mimetype": "text/x-python",
   "name": "python",
   "nbconvert_exporter": "python",
   "pygments_lexer": "ipython3",
   "version": "3.6.10"
  }
 },
 "nbformat": 4,
 "nbformat_minor": 4
}
